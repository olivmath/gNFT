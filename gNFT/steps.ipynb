{
 "cells": [
  {
   "cell_type": "code",
   "execution_count": 13,
   "id": "c466b9b4-6d59-455f-b512-2138c23bfcfd",
   "metadata": {},
   "outputs": [],
   "source": [
    "from collection import generate_collection\n",
    "from images import mint_collection"
   ]
  },
  {
   "cell_type": "code",
   "execution_count": 14,
   "id": "9f687e27-a9dd-4968-93fd-98a475f597db",
   "metadata": {},
   "outputs": [],
   "source": [
    "# NFT Collection\n",
    "collection =  {\n",
    "    \"background\": {\n",
    "        \"red\": 60,     # 60%\n",
    "        \"green\": 30,   # 30%\n",
    "        \"blue\": 10,    # 10%\n",
    "    },\n",
    "    \"square\": {\n",
    "        \"black\": 10,\n",
    "        \"pink\": 20,\n",
    "        \"yellow\": 20,\n",
    "        \"green\": 20,\n",
    "        \"purple\": 30\n",
    "    },\n",
    "    \"shape\": {\n",
    "        \"circle\":   10,  # 10%\n",
    "        \"triangle\": 10,  # 10%\n",
    "        \"diamond\": 80,   # 80%\n",
    "    }\n",
    "}"
   ]
  },
  {
   "cell_type": "code",
   "execution_count": 15,
   "id": "b8aaa6c8-f823-42fa-9311-0d7986f1ceec",
   "metadata": {},
   "outputs": [],
   "source": [
    "# Export Metadata\n",
    "def export_metadata(collection: list):\n",
    "    with open(\"./RealArt/collection/metadata.json\", \"w\") as file:\n",
    "        file.write(collection.json())"
   ]
  },
  {
   "cell_type": "code",
   "execution_count": 16,
   "id": "9dd53fbc-76ed-4194-b4b7-bae91a27c714",
   "metadata": {
    "tags": []
   },
   "outputs": [
    {
     "name": "stdout",
     "output_type": "stream",
     "text": [
      "(45, 2072)\n"
     ]
    }
   ],
   "source": [
    "c = generate_collection(\"RealArt\", collection, 45)\n",
    "export_metadata(c)"
   ]
  },
  {
   "cell_type": "code",
   "execution_count": 17,
   "id": "453ec39c-cf5f-4163-9e9a-8be9008fc61b",
   "metadata": {},
   "outputs": [],
   "source": [
    "mint_collection(c.RealArt)"
   ]
  }
 ],
 "metadata": {
  "kernelspec": {
   "display_name": "Python 3 (ipykernel)",
   "language": "python",
   "name": "python3"
  },
  "language_info": {
   "codemirror_mode": {
    "name": "ipython",
    "version": 3
   },
   "file_extension": ".py",
   "mimetype": "text/x-python",
   "name": "python",
   "nbconvert_exporter": "python",
   "pygments_lexer": "ipython3",
   "version": "3.9.12"
  }
 },
 "nbformat": 4,
 "nbformat_minor": 5
}
